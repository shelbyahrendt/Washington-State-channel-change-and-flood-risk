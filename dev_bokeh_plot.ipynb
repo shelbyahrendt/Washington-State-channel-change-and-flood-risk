{
 "cells": [
  {
   "cell_type": "markdown",
   "id": "f1744707",
   "metadata": {},
   "source": [
    "## Interactive Map of Washington State River Channel Change"
   ]
  },
  {
   "cell_type": "markdown",
   "id": "7b8f2f53",
   "metadata": {},
   "source": [
    "import packages"
   ]
  },
  {
   "cell_type": "code",
   "execution_count": 1,
   "id": "d7c1e780",
   "metadata": {},
   "outputs": [],
   "source": [
    "import pyproj\n",
    "import json\n",
    "import bokeh\n",
    "from bokeh.plotting import figure, output_file, show\n",
    "from bokeh.io import output_file, show\n",
    "from bokeh.tile_providers import CARTODBPOSITRON, get_provider\n",
    "from bokeh.models import GeoJSONDataSource, Patches, ColumnDataSource, HoverTool\n",
    "import pandas as pd\n",
    "import geopandas as gpd\n",
    "from shapely.geometry import Point, Polygon"
   ]
  },
  {
   "cell_type": "markdown",
   "id": "a79eea51",
   "metadata": {},
   "source": [
    "Convert seattle lat long into web mercator using pyproj"
   ]
  },
  {
   "cell_type": "code",
   "execution_count": 2,
   "id": "6d92e94a",
   "metadata": {},
   "outputs": [
    {
     "name": "stderr",
     "output_type": "stream",
     "text": [
      "<ipython-input-2-51617471e3b2>:5: DeprecationWarning: This function is deprecated. See: https://pyproj4.github.io/pyproj/stable/gotchas.html#upgrading-to-pyproj-2-from-pyproj-1\n",
      "  wb_seattle_x, wb_seattle_y = pyproj.transform(InputGrid, web_merc, lat, lon)\n"
     ]
    }
   ],
   "source": [
    "web_merc = pyproj.Proj(projparams = 'epsg:3857')\n",
    "InputGrid = pyproj.Proj(projparams = 'epsg:4326')\n",
    "lat, lon = 47.6062, -122.3321\n",
    "# x1, y1 = -11705274.6374,4826473.6922\n",
    "wb_seattle_x, wb_seattle_y = pyproj.transform(InputGrid, web_merc, lat, lon)"
   ]
  },
  {
   "cell_type": "markdown",
   "id": "1e25d16f",
   "metadata": {},
   "source": [
    "Import data"
   ]
  },
  {
   "cell_type": "code",
   "execution_count": 3,
   "id": "a1c4dc1b",
   "metadata": {},
   "outputs": [],
   "source": [
    "results_fn = r'study_data\\gauge_results.csv'\n",
    "results_df = pd.read_csv(results_fn)\n",
    "results_df['geometry'] = [Point(lon, lat) for lon, lat in zip(results_df.lon, results_df.lat)]\n",
    "results_web_merc = gpd.GeoDataFrame(\n",
    "    results_df,\n",
    "    crs='EPSG:4326',\n",
    "    geometry='geometry'\n",
    "    ).to_crs('epsg:3857')"
   ]
  },
  {
   "cell_type": "code",
   "execution_count": 4,
   "id": "969c3897",
   "metadata": {},
   "outputs": [],
   "source": [
    "water_fn = r'map_data\\WA_hydrography\\WA_hydrography_water_bodies.shp'\n",
    "water_gdf = gpd.read_file(water_fn)\n",
    "water_gdf_webmerc = water_gdf.to_crs('epsg:3857')\n",
    "rivers_gdf = water_gdf_webmerc[water_gdf_webmerc.WB_CART__1 == 'Stream/river']"
   ]
  },
  {
   "cell_type": "markdown",
   "id": "d745bded",
   "metadata": {},
   "source": [
    "create psuedo dot size to render visible channel change"
   ]
  },
  {
   "cell_type": "code",
   "execution_count": 5,
   "id": "b863a36f",
   "metadata": {},
   "outputs": [],
   "source": [
    "results_web_merc['dotplot_norm_range_CE'] = results_web_merc.norm_range_CE*25"
   ]
  },
  {
   "cell_type": "markdown",
   "id": "ad1f3b37",
   "metadata": {
    "tags": []
   },
   "source": [
    "create a tooltip column"
   ]
  },
  {
   "cell_type": "code",
   "execution_count": 6,
   "id": "ddf0784f",
   "metadata": {},
   "outputs": [],
   "source": [
    "# results_web_merc.assign(fonts = lambda x: '<i>%'"
   ]
  },
  {
   "cell_type": "markdown",
   "id": "041c6e88",
   "metadata": {},
   "source": [
    "export as geojson (commnet out if already exists)"
   ]
  },
  {
   "cell_type": "code",
   "execution_count": 7,
   "id": "8530e13f",
   "metadata": {},
   "outputs": [],
   "source": [
    "geojson_fn = r'study_data\\gage_results.geojson'\n",
    "results_web_merc.to_file(geojson_fn, driver = \"GeoJSON\") #comment out if already saved"
   ]
  },
  {
   "cell_type": "markdown",
   "id": "d4990104",
   "metadata": {},
   "source": [
    "load geojson file and dump using bokeh"
   ]
  },
  {
   "cell_type": "code",
   "execution_count": 8,
   "id": "5127fe9e",
   "metadata": {},
   "outputs": [],
   "source": [
    "geojson_fn = r'study_data\\gage_results.geojson'\n",
    "with open(geojson_fn) as geofile:\n",
    "    j_file_data = json.load(geofile)\n",
    "    \n",
    "geo_source_results = GeoJSONDataSource(geojson=json.dumps(j_file_data))"
   ]
  },
  {
   "cell_type": "markdown",
   "id": "f5dce0f6",
   "metadata": {},
   "source": [
    "plot rivers (https://automating-gis-processes.github.io/2017/lessons/L5/interactive-map-bokeh.html)"
   ]
  },
  {
   "cell_type": "code",
   "execution_count": 9,
   "id": "7a2adc7a",
   "metadata": {
    "jupyter": {
     "source_hidden": true
    },
    "tags": []
   },
   "outputs": [
    {
     "name": "stderr",
     "output_type": "stream",
     "text": [
      "C:\\Users\\sahrendt\\Anaconda3\\envs\\WA-channel-change-plots\\lib\\site-packages\\geopandas\\geodataframe.py:1322: SettingWithCopyWarning: \n",
      "A value is trying to be set on a copy of a slice from a DataFrame.\n",
      "Try using .loc[row_indexer,col_indexer] = value instead\n",
      "\n",
      "See the caveats in the documentation: https://pandas.pydata.org/pandas-docs/stable/user_guide/indexing.html#returning-a-view-versus-a-copy\n",
      "  super(GeoDataFrame, self).__setitem__(key, value)\n"
     ]
    }
   ],
   "source": [
    "#convert polygon data into something bokeh can understand\n",
    "def getPolyCoords(row, geom, coord_type):\n",
    "    \"\"\"Returns the coordinates ('x' or 'y') of edges of a Polygon exterior\"\"\"\n",
    "\n",
    "    # Parse the exterior of the coordinate\n",
    "    exterior = row[geom].exterior\n",
    "\n",
    "    if coord_type == 'x':\n",
    "        # Get the x coordinates of the exterior\n",
    "        return list( exterior.coords.xy[0] )\n",
    "    elif coord_type == 'y':\n",
    "        # Get the y coordinates of the exterior\n",
    "        return list( exterior.coords.xy[1] )\n",
    "    \n",
    "# Get the Polygon x and y coordinates\n",
    "rivers_gdf['x'] = rivers_gdf.apply(getPolyCoords, geom='geometry', coord_type='x', axis=1)\n",
    "rivers_gdf['y'] = rivers_gdf.apply(getPolyCoords, geom='geometry', coord_type='y', axis=1)"
   ]
  },
  {
   "cell_type": "code",
   "execution_count": 10,
   "id": "f91948a2",
   "metadata": {},
   "outputs": [],
   "source": [
    "# Make a copy, drop the geometry column and create ColumnDataSource\n",
    "rg_df = rivers_gdf.drop('geometry', axis=1).copy()\n",
    "rgsource = ColumnDataSource(rg_df)"
   ]
  },
  {
   "cell_type": "code",
   "execution_count": 11,
   "id": "40132e2c",
   "metadata": {},
   "outputs": [
    {
     "data": {
      "text/plain": [
       "Index(['#', 'USGS Gagename', 'USGS Gageno', 'lat', 'lon', 'category_from_test',\n",
       "       'max_cap_flood_flow', 'range_FE', 'norm_range_FE', 'range_CE',\n",
       "       'norm_range_CE', 'return_period', 'FS_m', 'category', 'channel_fig_url',\n",
       "       'geometry', 'dotplot_norm_range_CE'],\n",
       "      dtype='object')"
      ]
     },
     "execution_count": 11,
     "metadata": {},
     "output_type": "execute_result"
    }
   ],
   "source": [
    "results_web_merc.columns"
   ]
  },
  {
   "cell_type": "code",
   "execution_count": 12,
   "id": "bc5d8f27",
   "metadata": {},
   "outputs": [],
   "source": [
    "TOOLTIPS = \"\"\"\n",
    "    <div>\n",
    "        <div>\n",
    "            <img\n",
    "                src=\"@channel_fig_url\" height=\"200\" alt=\"@imgs\" width=\"500\"\n",
    "                style=\"float: left; margin: 0px 0px 0px 0px;\"\n",
    "                border=\"2\"\n",
    "            ></img>\n",
    "        </div>\n",
    "    </div>\n",
    "\"\"\""
   ]
  },
  {
   "cell_type": "markdown",
   "id": "0090833d",
   "metadata": {},
   "source": [
    "plot map with gauging sites"
   ]
  },
  {
   "cell_type": "code",
   "execution_count": 13,
   "id": "f6e61851",
   "metadata": {},
   "outputs": [],
   "source": [
    "output_file(r\"docs\\channel_change_map.html\")\n",
    "\n",
    "tile_provider = get_provider(CARTODBPOSITRON)\n",
    "seattle_utm = (449799.79, 5272748.59)\n",
    "# range bounds supplied in web mercator coordinates\n",
    "p = figure(x_range=(wb_seattle_x - 500000, wb_seattle_x + 500000), y_range=(wb_seattle_y - 450000, wb_seattle_y + 300000),\n",
    "           x_axis_type=\"mercator\", y_axis_type=\"mercator\",\n",
    "#            tooltips=TOOLTIPS,\n",
    "           title='western washington channel change',\n",
    "           plot_width=800, plot_height=800, \n",
    "           active_scroll = \"wheel_zoom\",\n",
    "#            min_border_left = 100,\n",
    "#            min_border_right = 100,\n",
    "          )\n",
    "hover_tool = HoverTool(tooltips=TOOLTIPS,\n",
    "                       attachment='right')\n",
    "p.tools.append(hover_tool)\n",
    "#set hovertool with 'attachment='left'' feature smehow\n",
    "# p.circle(x='x', y='y', size=15, color='tomato', alpha=0.7, source=geo_source_results)\n",
    "p.circle(x='x', y='y', size='dotplot_norm_range_CE', color='tomato', alpha=0.7, source=geo_source_results)\n",
    "# p.circle(x='x', y='y', size=15, color='norm_range_CE', alpha=0.7, source=geo_source_results)\n",
    "# p.patches('x', 'y', source=rgsource, fill_color='blue', fill_alpha=1.0, line_color=\"blue\", line_width=0.03)\n",
    "p.add_tile(tile_provider)\n",
    "\n",
    "show(p)"
   ]
  },
  {
   "cell_type": "code",
   "execution_count": 14,
   "id": "1cd16277",
   "metadata": {},
   "outputs": [],
   "source": [
    "hover_tool = HoverTool(tooltips=TOOLTIPS,\n",
    "                       attachment='right')\n",
    "p.tools.append(hover_tool)"
   ]
  },
  {
   "cell_type": "code",
   "execution_count": null,
   "id": "9992bd91",
   "metadata": {},
   "outputs": [],
   "source": []
  }
 ],
 "metadata": {
  "kernelspec": {
   "display_name": "Python 3",
   "language": "python",
   "name": "python3"
  },
  "language_info": {
   "codemirror_mode": {
    "name": "ipython",
    "version": 3
   },
   "file_extension": ".py",
   "mimetype": "text/x-python",
   "name": "python",
   "nbconvert_exporter": "python",
   "pygments_lexer": "ipython3",
   "version": "3.8.11"
  }
 },
 "nbformat": 4,
 "nbformat_minor": 5
}

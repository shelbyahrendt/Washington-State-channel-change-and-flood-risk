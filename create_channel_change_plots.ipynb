{
 "cells": [
  {
   "cell_type": "markdown",
   "id": "5b4eda7b-29b2-4abc-a341-66307ab2f124",
   "metadata": {},
   "source": [
    "## Create Plots of Channel Conveyance Change\n",
    "\n",
    "This notebook creates plots of channel conveyance change that pop up as a 'tool tip' when a user scroll"
   ]
  },
  {
   "cell_type": "code",
   "execution_count": 59,
   "id": "23b14982-2f1b-43a7-b99a-02bf280af32f",
   "metadata": {},
   "outputs": [],
   "source": [
    "import pandas as pd\n",
    "import numpy as np\n",
    "import matplotlib.pyplot as plt\n",
    "# import seaborn as sns\n",
    "import datetime as dt\n",
    "import matplotlib as mpl\n",
    "from datetime import timedelta\n",
    "from scipy import stats\n",
    "# sns.set()\n",
    "\n",
    "fttom = 0.3048"
   ]
  },
  {
   "cell_type": "code",
   "execution_count": 68,
   "id": "7bf345af-a9e3-479a-a636-b5cd17cda5ce",
   "metadata": {},
   "outputs": [],
   "source": [
    "gage_info = pd.read_csv(r'study_data\\gauge_results.csv')"
   ]
  },
  {
   "cell_type": "code",
   "execution_count": 55,
   "id": "6f9cc130-ce0e-4fd0-b5a1-22e55490981d",
   "metadata": {},
   "outputs": [],
   "source": [
    "def trend_conf_int(x, y):\n",
    "    x = x\n",
    "    y = y\n",
    "    lsq_res = stats.linregress(x, y)\n",
    "    pred_y = lsq_res[1] + lsq_res[0] * x\n",
    "    pred_x = np.linspace(np.min(x),np.max(x), len(x))\n",
    "    return(pred_x, pred_y, lsq_res[0], lsq_res[2]*lsq_res[2], lsq_res[3])"
   ]
  },
  {
   "cell_type": "code",
   "execution_count": 73,
   "id": "be0b6d13-20b4-467d-b1e6-4ec2954f4f0c",
   "metadata": {},
   "outputs": [],
   "source": [
    "for i, gage in gage_info.iterrows():\n",
    "    gagename = gage['USGS Gagename']\n",
    "    gageno = gage['USGS Gageno']\n",
    "    channel_data_fn = r'study_data\\channel_conveyance_change\\%s_%s_channel_capacity_change.csv'%(gagename, gageno)\n",
    "    channel_data = pd.read_csv(channel_data_fn)\n",
    "    \n",
    "    channel_data['DateTime'] = pd.to_datetime(channel_data.DateTime)\n",
    "    channel_data['mean']= channel_data['q_resid_cms'].rolling(5).mean()\n",
    "\n",
    "    f, ax = plt.subplots(figsize=(6,2))\n",
    "    ax.scatter(\n",
    "        channel_data['DateTime'],\n",
    "        channel_data['q_resid_cms'],\n",
    "        c='tomato',\n",
    "        marker='o',\n",
    "        s=10\n",
    "    )\n",
    "    if gage.category in ['minimal', 'monotonic']:\n",
    "        pred_x, channel_data['pred_fit'], slope, r2, pval =  trend_conf_int(\n",
    "            channel_data.DateTime.map(dt.datetime.toordinal),\n",
    "            channel_data.q_resid_cms\n",
    "        )\n",
    "        ax.plot(\n",
    "            channel_data.DateTime,\n",
    "            channel_data.pred_fit,\n",
    "            c='tomato',\n",
    "            linestyle='--',\n",
    "            linewidth=2\n",
    "        )\n",
    "    else:\n",
    "        ax.plot(\n",
    "            channel_data['DateTime'],\n",
    "            channel_data['mean'],\n",
    "            c='tomato',\n",
    "            linestyle='--',\n",
    "            linewidth=2\n",
    "        )\n",
    "    ax.set_ylabel('conveyance \\n change '+ r'$(m^3/s)$', fontsize=13)\n",
    "    ax.set_xlabel('date', fontsize=14)\n",
    "    ax.set_title('%s (%s)'%(gagename, gageno), fontsize=16)\n",
    "    ax.set_xlim(pd.to_datetime('01-01-1940'), pd.to_datetime('01-01-2020'))\n",
    "    plt.xticks(rotation=40, fontsize=12)\n",
    "    plt.yticks(fontsize=12)\n",
    "    plt.savefig(r'figures\\channel_conveyance_change\\%s_%s.png'%(gagename, gageno),\n",
    "                dpi=300,\n",
    "                bbox_inches='tight')\n",
    "    plt.close()"
   ]
  },
  {
   "cell_type": "code",
   "execution_count": null,
   "id": "26784e12-b70b-44a7-8455-1f78b8883d38",
   "metadata": {},
   "outputs": [],
   "source": []
  }
 ],
 "metadata": {
  "kernelspec": {
   "display_name": "Python 3",
   "language": "python",
   "name": "python3"
  },
  "language_info": {
   "codemirror_mode": {
    "name": "ipython",
    "version": 3
   },
   "file_extension": ".py",
   "mimetype": "text/x-python",
   "name": "python",
   "nbconvert_exporter": "python",
   "pygments_lexer": "ipython3",
   "version": "3.8.11"
  }
 },
 "nbformat": 4,
 "nbformat_minor": 5
}

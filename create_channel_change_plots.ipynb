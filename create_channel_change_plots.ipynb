{
 "cells": [
  {
   "cell_type": "markdown",
   "id": "5b4eda7b-29b2-4abc-a341-66307ab2f124",
   "metadata": {},
   "source": [
    "## Create Plots of Channel Conveyance Change\n",
    "\n",
    "This notebook creates the plots of channel conveyance change that pop up as a 'tool tip' when a user scrolls over a gauge site using the results data."
   ]
  },
  {
   "cell_type": "markdown",
   "id": "e723b0d6-6733-4ff3-b716-02a28ca03298",
   "metadata": {},
   "source": [
    "Import packages"
   ]
  },
  {
   "cell_type": "code",
   "execution_count": 56,
   "id": "23b14982-2f1b-43a7-b99a-02bf280af32f",
   "metadata": {},
   "outputs": [],
   "source": [
    "import pandas as pd\n",
    "import numpy as np\n",
    "import matplotlib.pyplot as plt\n",
    "# import seaborn as sns\n",
    "import datetime as dt\n",
    "import matplotlib as mpl\n",
    "from datetime import timedelta\n",
    "from scipy import stats\n",
    "# sns.set()\n",
    "\n",
    "fttom = 0.3048"
   ]
  },
  {
   "cell_type": "markdown",
   "id": "0b0409d1-71f0-498d-84f4-bb3e1ee37824",
   "metadata": {},
   "source": [
    "Import gauge results"
   ]
  },
  {
   "cell_type": "code",
   "execution_count": 57,
   "id": "7bf345af-a9e3-479a-a636-b5cd17cda5ce",
   "metadata": {},
   "outputs": [],
   "source": [
    "gage_info = pd.read_csv(r'study_data\\gauge_results.csv')"
   ]
  },
  {
   "cell_type": "markdown",
   "id": "27f80d8a-5dde-41c2-9fea-cc0da0c59ff3",
   "metadata": {},
   "source": [
    "Define function to compute linear trend to fit channel change for sites that can be described by a linear analysis"
   ]
  },
  {
   "cell_type": "code",
   "execution_count": 8,
   "id": "6f9cc130-ce0e-4fd0-b5a1-22e55490981d",
   "metadata": {},
   "outputs": [],
   "source": [
    "def trend_conf_int(x, y):\n",
    "    x = x\n",
    "    y = y\n",
    "    lsq_res = stats.linregress(x, y)\n",
    "    pred_y = lsq_res[1] + lsq_res[0] * x\n",
    "    pred_x = np.linspace(np.min(x),np.max(x), len(x))\n",
    "    return(pred_x, pred_y, lsq_res[0], lsq_res[2]*lsq_res[2], lsq_res[3])"
   ]
  },
  {
   "cell_type": "markdown",
   "id": "101ffbe3-508a-40f0-b7bc-0fac1dd001b4",
   "metadata": {},
   "source": [
    "Define an offset date to compute change with respect to:"
   ]
  },
  {
   "cell_type": "code",
   "execution_count": 48,
   "id": "5ba9d6cd-18b0-4c0e-baa1-748768f0159a",
   "metadata": {},
   "outputs": [],
   "source": [
    "offset_date = pd.Timestamp('2015-01-01')"
   ]
  },
  {
   "cell_type": "markdown",
   "id": "0b1715d7-13b5-4a1a-8acf-6d7d05d9cba7",
   "metadata": {},
   "source": [
    "Define a function that will compute closest time to offset date:"
   ]
  },
  {
   "cell_type": "code",
   "execution_count": 49,
   "id": "94ed24cd-ff74-4d77-8252-b808c8140aed",
   "metadata": {},
   "outputs": [],
   "source": [
    "def nearest(items, pivot):\n",
    "    return min(items, key=lambda x: abs(x - pivot))"
   ]
  },
  {
   "cell_type": "markdown",
   "id": "67028602-ccd9-41bc-aae7-09bcc3f06e71",
   "metadata": {},
   "source": [
    "Load data, make & save plots"
   ]
  },
  {
   "cell_type": "code",
   "execution_count": 55,
   "id": "be0b6d13-20b4-467d-b1e6-4ec2954f4f0c",
   "metadata": {},
   "outputs": [],
   "source": [
    "for i, gage in gage_info.iterrows():\n",
    "    gage_id = gage['#']\n",
    "    gagename = gage['USGS Gagename']\n",
    "    gageno = gage['USGS Gageno']\n",
    "    channel_data_fn = r'study_data\\channel_conveyance_change\\%s_%s_channel_capacity_change.csv'%(gagename, gageno)\n",
    "    channel_data = pd.read_csv(channel_data_fn)\n",
    "    \n",
    "    channel_data['DateTime'] = pd.to_datetime(channel_data.DateTime)\n",
    "\n",
    "    channel_data['mean']= channel_data['q_resid_cms'].rolling(5).mean()\n",
    "\n",
    "    channel_data = channel_data.set_index('DateTime', drop=True)\n",
    "    #drop duplicate indicies\n",
    "    channel_data = channel_data.loc[~channel_data.index.duplicated(), :]\n",
    "    #offset to zero at 2015\n",
    "    closest_time = nearest(channel_data.index, offset_date)\n",
    "    offset_channel = channel_data['mean'].loc[closest_time]\n",
    "    channel_data.q_resid_cms -= offset_channel\n",
    "    channel_data['mean'] -= offset_channel\n",
    "\n",
    "    f, ax = plt.subplots(figsize=(6,2))\n",
    "    ax.scatter(\n",
    "        channel_data.index,\n",
    "        channel_data['q_resid_cms'],\n",
    "        c='tomato',\n",
    "        marker='o',\n",
    "        s=10\n",
    "    )\n",
    "    if gage.category in ['minimal', 'monotonic']:\n",
    "        pred_x, channel_data['pred_fit'], slope, r2, pval =  trend_conf_int(\n",
    "            channel_data.index.map(dt.datetime.toordinal),\n",
    "            channel_data.q_resid_cms\n",
    "        )\n",
    "        ax.plot(\n",
    "            channel_data.index,\n",
    "            channel_data.pred_fit,\n",
    "            c='tomato',\n",
    "            linestyle='--',\n",
    "            linewidth=2\n",
    "        )\n",
    "    else:\n",
    "        ax.plot(\n",
    "            channel_data.index,\n",
    "            channel_data['mean'],\n",
    "            c='tomato',\n",
    "            linestyle='--',\n",
    "            linewidth=2\n",
    "        )\n",
    "    ax.set_ylabel('conveyance \\n change '+ r'$(m^3/s)$', fontsize=13)\n",
    "    ax.set_xlabel('date', fontsize=14)\n",
    "    ax.set_title('%d: %s (%s)'%(gage_id, gagename, gageno), fontsize=16)\n",
    "    ax.set_xlim(pd.to_datetime('01-01-1940'), pd.to_datetime('01-01-2020'))\n",
    "    plt.xticks(rotation=40, fontsize=12)\n",
    "    plt.yticks(fontsize=12)\n",
    "    plt.savefig(r'figures\\channel_conveyance_change\\%s_%s.png'%(gagename, gageno),\n",
    "                dpi=300,\n",
    "                bbox_inches='tight')\n",
    "    plt.close()"
   ]
  },
  {
   "cell_type": "code",
   "execution_count": null,
   "id": "0ab7c2c6-4dc9-4278-825b-4404416233dc",
   "metadata": {},
   "outputs": [],
   "source": []
  }
 ],
 "metadata": {
  "kernelspec": {
   "display_name": "Python 3",
   "language": "python",
   "name": "python3"
  },
  "language_info": {
   "codemirror_mode": {
    "name": "ipython",
    "version": 3
   },
   "file_extension": ".py",
   "mimetype": "text/x-python",
   "name": "python",
   "nbconvert_exporter": "python",
   "pygments_lexer": "ipython3",
   "version": "3.8.11"
  }
 },
 "nbformat": 4,
 "nbformat_minor": 5
}

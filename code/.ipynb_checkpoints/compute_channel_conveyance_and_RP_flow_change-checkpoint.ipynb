{
 "cells": [
  {
   "cell_type": "code",
   "execution_count": 2,
   "id": "b256be83-d91d-497e-817b-d1d6d02d8d08",
   "metadata": {},
   "outputs": [],
   "source": [
    "import pandas as pd\n",
    "import numpy as np\n",
    "import matplotlib.pyplot as mp\n",
    "import datetime as dt\n",
    "from datetime import timedelta\n",
    "import os"
   ]
  },
  {
   "cell_type": "markdown",
   "id": "aee36ff9-026d-44e7-bc0b-305adad45d2a",
   "metadata": {},
   "source": [
    "Define feet to meters conversion:"
   ]
  },
  {
   "cell_type": "code",
   "execution_count": 3,
   "id": "1cf9bbff-40ab-4b56-aa2d-79306c4514e5",
   "metadata": {},
   "outputs": [],
   "source": [
    "fttom = 0.3048"
   ]
  },
  {
   "cell_type": "markdown",
   "id": "4a33a08e-9fa4-4150-baa3-3f13b0f9f471",
   "metadata": {},
   "source": [
    "Import data"
   ]
  },
  {
   "cell_type": "code",
   "execution_count": 19,
   "id": "7c54037b-fa33-422f-a092-0adcb2647e1c",
   "metadata": {},
   "outputs": [],
   "source": [
    "measurement_data = pd.read_csv(r'example_data_Skagit Near Mt. Vernon_12200500_measurement_data.csv')\n",
    "mean_daily_data = pd.read_csv(r'example_data_Skagit Near Mt. Vernon_12200500_mean_daily_data.csv')\n",
    "rating_curve = pd.read_csv(r'example_rating_curve_Skagit Near Mt. Vernon_12200500_posterior_rating.csv', sep=';')"
   ]
  },
  {
   "cell_type": "markdown",
   "id": "3d9fc14c-4db1-4896-a095-ffbfb457f666",
   "metadata": {},
   "source": [
    "Define flood stage for site:"
   ]
  },
  {
   "cell_type": "code",
   "execution_count": 23,
   "id": "52293d0d-3b80-4591-8cb4-229d867260f7",
   "metadata": {},
   "outputs": [],
   "source": [
    "FS = 8.5 #m for Skagit Nr Mt Vernon\n",
    "zero_flow_stage = np.interp(0, rating_curve['Qmaxpost[m3/s]'], rating_curve['H[m]'])"
   ]
  },
  {
   "cell_type": "markdown",
   "id": "fb6b8b46-db11-4af9-8fa9-84977c171442",
   "metadata": {},
   "source": [
    "Compute channel conveyance change:"
   ]
  },
  {
   "cell_type": "code",
   "execution_count": null,
   "id": "b55c72f2-1d3b-44bf-89de-49edf772f7aa",
   "metadata": {},
   "outputs": [],
   "source": []
  },
  {
   "cell_type": "markdown",
   "id": "8f6b7851-823a-43cb-8214-e41b705d3bf6",
   "metadata": {},
   "source": [
    "For channel conveyance change:"
   ]
  },
  {
   "cell_type": "code",
   "execution_count": null,
   "id": "4b7c4b90-2b13-4151-a73f-531fc3acfb7b",
   "metadata": {},
   "outputs": [],
   "source": []
  },
  {
   "cell_type": "code",
   "execution_count": null,
   "id": "f83fb304-c3c9-4cc2-95d8-72203fbf317e",
   "metadata": {},
   "outputs": [],
   "source": [
    "no_yrs_per_window=10 #number of years to include in each dataspan for creating flow-duration curves\n",
    "days_per_window = 365*no_yrs_per_window\n",
    "window_size = dt.timedelta(days=days_per_window) #datetime object for shifting data\n",
    "d_window_shift = 365 #days to shift window over by before creating next FDC and interpolating Q(RP)"
   ]
  }
 ],
 "metadata": {
  "kernelspec": {
   "display_name": "Python 3",
   "language": "python",
   "name": "python3"
  },
  "language_info": {
   "codemirror_mode": {
    "name": "ipython",
    "version": 3
   },
   "file_extension": ".py",
   "mimetype": "text/x-python",
   "name": "python",
   "nbconvert_exporter": "python",
   "pygments_lexer": "ipython3",
   "version": "3.7.11"
  }
 },
 "nbformat": 4,
 "nbformat_minor": 5
}

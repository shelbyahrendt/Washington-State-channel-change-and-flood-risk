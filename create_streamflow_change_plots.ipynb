{
 "cells": [
  {
   "cell_type": "markdown",
   "id": "8ee4edff-9fe6-4b8b-a8b3-00ad267aa452",
   "metadata": {},
   "source": [
    "## Create Plots of Streamflow\n",
    "\n",
    "This notebook creates the plots of streamflow change that pop up as a 'tool tip' when a user scrolls over a gauge site using the results data."
   ]
  },
  {
   "cell_type": "markdown",
   "id": "bf20d4db-8cb4-4d74-a336-084cc4ede1ef",
   "metadata": {},
   "source": [
    "Import packages"
   ]
  },
  {
   "cell_type": "code",
   "execution_count": 11,
   "id": "57d4cd1e-8221-40dd-91f4-efecc3729a6c",
   "metadata": {},
   "outputs": [],
   "source": [
    "import pandas as pd\n",
    "import numpy as np\n",
    "import matplotlib.pyplot as plt\n",
    "# import seaborn as sns\n",
    "import datetime as dt\n",
    "import matplotlib as mpl\n",
    "from datetime import timedelta\n",
    "from scipy import stats\n",
    "# sns.set()\n",
    "\n",
    "fttom = 0.3048"
   ]
  },
  {
   "cell_type": "markdown",
   "id": "2e27a34c-3380-421e-bcc9-61cfccbf8bc0",
   "metadata": {},
   "source": [
    "Import gauge results"
   ]
  },
  {
   "cell_type": "code",
   "execution_count": 12,
   "id": "44467628-7b74-4a41-b881-6aad7612ffd3",
   "metadata": {},
   "outputs": [],
   "source": [
    "gage_info = pd.read_csv(r'study_data\\gauge_results.csv')"
   ]
  },
  {
   "cell_type": "markdown",
   "id": "78404db9-3e96-4eed-99c4-c82eb281a2d6",
   "metadata": {},
   "source": [
    "Define an offset date to compute change with respect to:"
   ]
  },
  {
   "cell_type": "code",
   "execution_count": 13,
   "id": "9fdd4ab8-f844-43c1-8e26-6920224ab220",
   "metadata": {},
   "outputs": [],
   "source": [
    "offset_date = pd.Timestamp('2015-01-01')"
   ]
  },
  {
   "cell_type": "markdown",
   "id": "9f2e899d-6556-427b-8421-ea6ded3416c2",
   "metadata": {},
   "source": [
    "Define a function that will compute closest time to offset date:"
   ]
  },
  {
   "cell_type": "code",
   "execution_count": 14,
   "id": "8ddfad33-f26f-4a2f-b5fb-fad45052036c",
   "metadata": {},
   "outputs": [],
   "source": [
    "def nearest(items, pivot):\n",
    "    return min(items, key=lambda x: abs(x - pivot))"
   ]
  },
  {
   "cell_type": "markdown",
   "id": "98bcce0e-3623-4f38-844d-136b67feccdf",
   "metadata": {},
   "source": [
    "Load data, make & save plots"
   ]
  },
  {
   "cell_type": "code",
   "execution_count": 17,
   "id": "5b8372eb-a4ac-477d-a1ed-2ea01f387ca0",
   "metadata": {},
   "outputs": [],
   "source": [
    "for i, gage in gage_info.iterrows():\n",
    "    gage_id = gage['#']\n",
    "    gagename = gage['USGS Gagename']\n",
    "    gageno = gage['USGS Gageno']\n",
    "    streamflow_data_fn = r'study_data\\streamflow_change\\%s_%s_return_period_flows.csv'%(gagename, gageno)\n",
    "    streamflow_data = pd.read_csv(streamflow_data_fn, index_col=1)\n",
    "    streamflow_data.index = pd.to_datetime(streamflow_data.index)\n",
    "    streamflow_data = streamflow_data.loc[~streamflow_data.index.duplicated(), :]\n",
    "    closest_time = nearest(streamflow_data.index, offset_date)\n",
    "    offset_streamflow = streamflow_data['RP_flows'].loc[closest_time]\n",
    "    streamflow_data['RP_flows'] -= offset_streamflow\n",
    "\n",
    "    f, ax = plt.subplots(figsize=(6,2))\n",
    "    ax.plot(\n",
    "        streamflow_data.index,\n",
    "        streamflow_data['RP_flows'],\n",
    "        c='royalblue',\n",
    "        marker='o',\n",
    "    )\n",
    "    ax.set_ylabel('streamflow \\n change '+ r'$(m^3/s)$', fontsize=13)\n",
    "    ax.set_xlabel('date', fontsize=14)\n",
    "    ax.set_title('%d: %s (%s)'%(gage_id, gagename, gageno), fontsize=16)\n",
    "    ax.set_xlim(pd.to_datetime('01-01-1940'), pd.to_datetime('01-01-2020'))\n",
    "    plt.xticks(rotation=40, fontsize=12)\n",
    "    plt.yticks(fontsize=12)\n",
    "    plt.savefig(r'figures\\streamflow_change\\%s_%s.png'%(gagename, gageno),\n",
    "                dpi=300,\n",
    "                bbox_inches='tight',\n",
    "                transparent=False)\n",
    "    plt.close()"
   ]
  }
 ],
 "metadata": {
  "kernelspec": {
   "display_name": "Python 3",
   "language": "python",
   "name": "python3"
  },
  "language_info": {
   "codemirror_mode": {
    "name": "ipython",
    "version": 3
   },
   "file_extension": ".py",
   "mimetype": "text/x-python",
   "name": "python",
   "nbconvert_exporter": "python",
   "pygments_lexer": "ipython3",
   "version": "3.7.11"
  }
 },
 "nbformat": 4,
 "nbformat_minor": 5
}
